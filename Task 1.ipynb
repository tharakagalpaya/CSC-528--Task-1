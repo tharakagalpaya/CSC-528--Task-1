{
 "cells": [
  {
   "cell_type": "code",
   "execution_count": 32,
   "id": "63f5525f",
   "metadata": {},
   "outputs": [],
   "source": [
    "import pandas as pd\n",
    "import matplotlib.pyplot as plt"
   ]
  },
  {
   "cell_type": "code",
   "execution_count": 33,
   "id": "53e7b745",
   "metadata": {},
   "outputs": [],
   "source": [
    "import numpy as np\n",
    "import tensorflow as tf"
   ]
  },
  {
   "cell_type": "code",
   "execution_count": 34,
   "id": "28083ac1",
   "metadata": {},
   "outputs": [],
   "source": [
    "from sklearn.model_selection import train_test_split"
   ]
  },
  {
   "cell_type": "markdown",
   "id": "aa8a1f14",
   "metadata": {},
   "source": [
    "### Data preprocessing"
   ]
  },
  {
   "cell_type": "code",
   "execution_count": 35,
   "id": "1d349d4e",
   "metadata": {},
   "outputs": [],
   "source": [
    "df = pd.read_csv('NIC.csv')"
   ]
  },
  {
   "cell_type": "code",
   "execution_count": 36,
   "id": "3c3199f0",
   "metadata": {},
   "outputs": [
    {
     "data": {
      "text/html": [
       "<div>\n",
       "<style scoped>\n",
       "    .dataframe tbody tr th:only-of-type {\n",
       "        vertical-align: middle;\n",
       "    }\n",
       "\n",
       "    .dataframe tbody tr th {\n",
       "        vertical-align: top;\n",
       "    }\n",
       "\n",
       "    .dataframe thead th {\n",
       "        text-align: right;\n",
       "    }\n",
       "</style>\n",
       "<table border=\"1\" class=\"dataframe\">\n",
       "  <thead>\n",
       "    <tr style=\"text-align: right;\">\n",
       "      <th></th>\n",
       "      <th>IDN</th>\n",
       "    </tr>\n",
       "  </thead>\n",
       "  <tbody>\n",
       "    <tr>\n",
       "      <th>0</th>\n",
       "      <td>911232910V</td>\n",
       "    </tr>\n",
       "    <tr>\n",
       "      <th>1</th>\n",
       "      <td>937370580V</td>\n",
       "    </tr>\n",
       "    <tr>\n",
       "      <th>2</th>\n",
       "      <td>937784210V</td>\n",
       "    </tr>\n",
       "    <tr>\n",
       "      <th>3</th>\n",
       "      <td>940491240V</td>\n",
       "    </tr>\n",
       "    <tr>\n",
       "      <th>4</th>\n",
       "      <td>942251610V</td>\n",
       "    </tr>\n",
       "    <tr>\n",
       "      <th>...</th>\n",
       "      <td>...</td>\n",
       "    </tr>\n",
       "    <tr>\n",
       "      <th>5018</th>\n",
       "      <td>988190969V</td>\n",
       "    </tr>\n",
       "    <tr>\n",
       "      <th>5019</th>\n",
       "      <td>988330809V</td>\n",
       "    </tr>\n",
       "    <tr>\n",
       "      <th>5020</th>\n",
       "      <td>988501069V</td>\n",
       "    </tr>\n",
       "    <tr>\n",
       "      <th>5021</th>\n",
       "      <td>995150549V</td>\n",
       "    </tr>\n",
       "    <tr>\n",
       "      <th>5022</th>\n",
       "      <td>995291649V</td>\n",
       "    </tr>\n",
       "  </tbody>\n",
       "</table>\n",
       "<p>5023 rows × 1 columns</p>\n",
       "</div>"
      ],
      "text/plain": [
       "             IDN\n",
       "0     911232910V\n",
       "1     937370580V\n",
       "2     937784210V\n",
       "3     940491240V\n",
       "4     942251610V\n",
       "...          ...\n",
       "5018  988190969V\n",
       "5019  988330809V\n",
       "5020  988501069V\n",
       "5021  995150549V\n",
       "5022  995291649V\n",
       "\n",
       "[5023 rows x 1 columns]"
      ]
     },
     "execution_count": 36,
     "metadata": {},
     "output_type": "execute_result"
    }
   ],
   "source": [
    "df"
   ]
  },
  {
   "cell_type": "code",
   "execution_count": 37,
   "id": "89c75ca6",
   "metadata": {},
   "outputs": [],
   "source": [
    "df['input'] = df['IDN'].str[0:8] # taking the first 8 digits"
   ]
  },
  {
   "cell_type": "code",
   "execution_count": 38,
   "id": "328ebe83",
   "metadata": {},
   "outputs": [],
   "source": [
    "df['output'] = df['IDN'].str[8] # taking the output\n"
   ]
  },
  {
   "cell_type": "code",
   "execution_count": 39,
   "id": "ba884dc6",
   "metadata": {},
   "outputs": [],
   "source": [
    "# seperate input string to single component\n",
    "df['a'] = df['IDN'].str[0]\n",
    "df['b'] = df['IDN'].str[1]\n",
    "df['c'] = df['IDN'].str[2]\n",
    "df['d'] = df['IDN'].str[3]\n",
    "df['e'] = df['IDN'].str[4]\n",
    "df['f'] = df['IDN'].str[5]\n",
    "df['g'] = df['IDN'].str[6]\n",
    "df['h'] = df['IDN'].str[7]"
   ]
  },
  {
   "cell_type": "markdown",
   "id": "61a84ec2",
   "metadata": {},
   "source": [
    "### Data Cleaning process"
   ]
  },
  {
   "cell_type": "code",
   "execution_count": 40,
   "id": "455a0d6c",
   "metadata": {},
   "outputs": [],
   "source": [
    "def data_cleaning(row):\n",
    "    val_char = ['0','1','2','3','4','5','6','7','8','9']\n",
    "    columns = ['output','a','b','c','d','e','f','g','h']\n",
    "    validation = 'valid'\n",
    "    for i in columns:\n",
    "        if not row[i] in val_char:\n",
    "            validation = 'invalid'\n",
    "    return validation"
   ]
  },
  {
   "cell_type": "code",
   "execution_count": 41,
   "id": "fd74e785",
   "metadata": {},
   "outputs": [
    {
     "name": "stderr",
     "output_type": "stream",
     "text": [
      "C:\\Users\\HP\\anaconda3\\envs\\TFOD\\lib\\site-packages\\pandas-1.3.0-py3.8-win-amd64.egg\\pandas\\core\\frame.py:3607: SettingWithCopyWarning: \n",
      "A value is trying to be set on a copy of a slice from a DataFrame.\n",
      "Try using .loc[row_indexer,col_indexer] = value instead\n",
      "\n",
      "See the caveats in the documentation: https://pandas.pydata.org/pandas-docs/stable/user_guide/indexing.html#returning-a-view-versus-a-copy\n",
      "  self._set_item(key, value)\n"
     ]
    }
   ],
   "source": [
    "df['data_validation'] = df.apply(data_cleaning,axis = 1)\n",
    "df = df[df['data_validation'] == 'valid']\n",
    "df['output'] = df['output'].astype('int')"
   ]
  },
  {
   "cell_type": "code",
   "execution_count": 42,
   "id": "c234128c",
   "metadata": {
    "scrolled": true
   },
   "outputs": [
    {
     "data": {
      "text/html": [
       "<div>\n",
       "<style scoped>\n",
       "    .dataframe tbody tr th:only-of-type {\n",
       "        vertical-align: middle;\n",
       "    }\n",
       "\n",
       "    .dataframe tbody tr th {\n",
       "        vertical-align: top;\n",
       "    }\n",
       "\n",
       "    .dataframe thead th {\n",
       "        text-align: right;\n",
       "    }\n",
       "</style>\n",
       "<table border=\"1\" class=\"dataframe\">\n",
       "  <thead>\n",
       "    <tr style=\"text-align: right;\">\n",
       "      <th></th>\n",
       "      <th>IDN</th>\n",
       "      <th>input</th>\n",
       "      <th>output</th>\n",
       "      <th>a</th>\n",
       "      <th>b</th>\n",
       "      <th>c</th>\n",
       "      <th>d</th>\n",
       "      <th>e</th>\n",
       "      <th>f</th>\n",
       "      <th>g</th>\n",
       "      <th>h</th>\n",
       "      <th>data_validation</th>\n",
       "    </tr>\n",
       "  </thead>\n",
       "  <tbody>\n",
       "    <tr>\n",
       "      <th>0</th>\n",
       "      <td>911232910V</td>\n",
       "      <td>91123291</td>\n",
       "      <td>0</td>\n",
       "      <td>9</td>\n",
       "      <td>1</td>\n",
       "      <td>1</td>\n",
       "      <td>2</td>\n",
       "      <td>3</td>\n",
       "      <td>2</td>\n",
       "      <td>9</td>\n",
       "      <td>1</td>\n",
       "      <td>valid</td>\n",
       "    </tr>\n",
       "    <tr>\n",
       "      <th>1</th>\n",
       "      <td>937370580V</td>\n",
       "      <td>93737058</td>\n",
       "      <td>0</td>\n",
       "      <td>9</td>\n",
       "      <td>3</td>\n",
       "      <td>7</td>\n",
       "      <td>3</td>\n",
       "      <td>7</td>\n",
       "      <td>0</td>\n",
       "      <td>5</td>\n",
       "      <td>8</td>\n",
       "      <td>valid</td>\n",
       "    </tr>\n",
       "    <tr>\n",
       "      <th>2</th>\n",
       "      <td>937784210V</td>\n",
       "      <td>93778421</td>\n",
       "      <td>0</td>\n",
       "      <td>9</td>\n",
       "      <td>3</td>\n",
       "      <td>7</td>\n",
       "      <td>7</td>\n",
       "      <td>8</td>\n",
       "      <td>4</td>\n",
       "      <td>2</td>\n",
       "      <td>1</td>\n",
       "      <td>valid</td>\n",
       "    </tr>\n",
       "    <tr>\n",
       "      <th>3</th>\n",
       "      <td>940491240V</td>\n",
       "      <td>94049124</td>\n",
       "      <td>0</td>\n",
       "      <td>9</td>\n",
       "      <td>4</td>\n",
       "      <td>0</td>\n",
       "      <td>4</td>\n",
       "      <td>9</td>\n",
       "      <td>1</td>\n",
       "      <td>2</td>\n",
       "      <td>4</td>\n",
       "      <td>valid</td>\n",
       "    </tr>\n",
       "    <tr>\n",
       "      <th>4</th>\n",
       "      <td>942251610V</td>\n",
       "      <td>94225161</td>\n",
       "      <td>0</td>\n",
       "      <td>9</td>\n",
       "      <td>4</td>\n",
       "      <td>2</td>\n",
       "      <td>2</td>\n",
       "      <td>5</td>\n",
       "      <td>1</td>\n",
       "      <td>6</td>\n",
       "      <td>1</td>\n",
       "      <td>valid</td>\n",
       "    </tr>\n",
       "    <tr>\n",
       "      <th>...</th>\n",
       "      <td>...</td>\n",
       "      <td>...</td>\n",
       "      <td>...</td>\n",
       "      <td>...</td>\n",
       "      <td>...</td>\n",
       "      <td>...</td>\n",
       "      <td>...</td>\n",
       "      <td>...</td>\n",
       "      <td>...</td>\n",
       "      <td>...</td>\n",
       "      <td>...</td>\n",
       "      <td>...</td>\n",
       "    </tr>\n",
       "    <tr>\n",
       "      <th>5018</th>\n",
       "      <td>988190969V</td>\n",
       "      <td>98819096</td>\n",
       "      <td>9</td>\n",
       "      <td>9</td>\n",
       "      <td>8</td>\n",
       "      <td>8</td>\n",
       "      <td>1</td>\n",
       "      <td>9</td>\n",
       "      <td>0</td>\n",
       "      <td>9</td>\n",
       "      <td>6</td>\n",
       "      <td>valid</td>\n",
       "    </tr>\n",
       "    <tr>\n",
       "      <th>5019</th>\n",
       "      <td>988330809V</td>\n",
       "      <td>98833080</td>\n",
       "      <td>9</td>\n",
       "      <td>9</td>\n",
       "      <td>8</td>\n",
       "      <td>8</td>\n",
       "      <td>3</td>\n",
       "      <td>3</td>\n",
       "      <td>0</td>\n",
       "      <td>8</td>\n",
       "      <td>0</td>\n",
       "      <td>valid</td>\n",
       "    </tr>\n",
       "    <tr>\n",
       "      <th>5020</th>\n",
       "      <td>988501069V</td>\n",
       "      <td>98850106</td>\n",
       "      <td>9</td>\n",
       "      <td>9</td>\n",
       "      <td>8</td>\n",
       "      <td>8</td>\n",
       "      <td>5</td>\n",
       "      <td>0</td>\n",
       "      <td>1</td>\n",
       "      <td>0</td>\n",
       "      <td>6</td>\n",
       "      <td>valid</td>\n",
       "    </tr>\n",
       "    <tr>\n",
       "      <th>5021</th>\n",
       "      <td>995150549V</td>\n",
       "      <td>99515054</td>\n",
       "      <td>9</td>\n",
       "      <td>9</td>\n",
       "      <td>9</td>\n",
       "      <td>5</td>\n",
       "      <td>1</td>\n",
       "      <td>5</td>\n",
       "      <td>0</td>\n",
       "      <td>5</td>\n",
       "      <td>4</td>\n",
       "      <td>valid</td>\n",
       "    </tr>\n",
       "    <tr>\n",
       "      <th>5022</th>\n",
       "      <td>995291649V</td>\n",
       "      <td>99529164</td>\n",
       "      <td>9</td>\n",
       "      <td>9</td>\n",
       "      <td>9</td>\n",
       "      <td>5</td>\n",
       "      <td>2</td>\n",
       "      <td>9</td>\n",
       "      <td>1</td>\n",
       "      <td>6</td>\n",
       "      <td>4</td>\n",
       "      <td>valid</td>\n",
       "    </tr>\n",
       "  </tbody>\n",
       "</table>\n",
       "<p>5011 rows × 12 columns</p>\n",
       "</div>"
      ],
      "text/plain": [
       "             IDN     input  output  a  b  c  d  e  f  g  h data_validation\n",
       "0     911232910V  91123291       0  9  1  1  2  3  2  9  1           valid\n",
       "1     937370580V  93737058       0  9  3  7  3  7  0  5  8           valid\n",
       "2     937784210V  93778421       0  9  3  7  7  8  4  2  1           valid\n",
       "3     940491240V  94049124       0  9  4  0  4  9  1  2  4           valid\n",
       "4     942251610V  94225161       0  9  4  2  2  5  1  6  1           valid\n",
       "...          ...       ...     ... .. .. .. .. .. .. .. ..             ...\n",
       "5018  988190969V  98819096       9  9  8  8  1  9  0  9  6           valid\n",
       "5019  988330809V  98833080       9  9  8  8  3  3  0  8  0           valid\n",
       "5020  988501069V  98850106       9  9  8  8  5  0  1  0  6           valid\n",
       "5021  995150549V  99515054       9  9  9  5  1  5  0  5  4           valid\n",
       "5022  995291649V  99529164       9  9  9  5  2  9  1  6  4           valid\n",
       "\n",
       "[5011 rows x 12 columns]"
      ]
     },
     "execution_count": 42,
     "metadata": {},
     "output_type": "execute_result"
    }
   ],
   "source": [
    "df"
   ]
  },
  {
   "cell_type": "markdown",
   "id": "df33bd1f",
   "metadata": {},
   "source": [
    "### Data transformation"
   ]
  },
  {
   "cell_type": "code",
   "execution_count": 43,
   "id": "a78137cb",
   "metadata": {},
   "outputs": [],
   "source": [
    "number_of_rows = len(df.index)"
   ]
  },
  {
   "cell_type": "code",
   "execution_count": 44,
   "id": "48b14200",
   "metadata": {},
   "outputs": [],
   "source": [
    "X = df[['a','b','c','d','e','f','g','h']].to_numpy(dtype = 'float32')"
   ]
  },
  {
   "cell_type": "code",
   "execution_count": 45,
   "id": "690d0023",
   "metadata": {},
   "outputs": [],
   "source": [
    "X = np.reshape(X, (number_of_rows,8))/10 # data normalization"
   ]
  },
  {
   "cell_type": "code",
   "execution_count": 46,
   "id": "9c6a5bf9",
   "metadata": {},
   "outputs": [],
   "source": [
    "y = df['output'].to_numpy(dtype = 'float32')"
   ]
  },
  {
   "cell_type": "code",
   "execution_count": 47,
   "id": "c2d15da6",
   "metadata": {},
   "outputs": [],
   "source": [
    "y = y.reshape(number_of_rows,1)"
   ]
  },
  {
   "cell_type": "code",
   "execution_count": 48,
   "id": "9594a424",
   "metadata": {},
   "outputs": [],
   "source": [
    "y = tf.keras.utils.to_categorical(y)"
   ]
  },
  {
   "cell_type": "code",
   "execution_count": 49,
   "id": "afabfb7b",
   "metadata": {
    "scrolled": true
   },
   "outputs": [
    {
     "data": {
      "text/plain": [
       "array([[0.9, 0.1, 0.1, ..., 0.2, 0.9, 0.1],\n",
       "       [0.9, 0.3, 0.7, ..., 0. , 0.5, 0.8],\n",
       "       [0.9, 0.3, 0.7, ..., 0.4, 0.2, 0.1],\n",
       "       ...,\n",
       "       [0.9, 0.8, 0.8, ..., 0.1, 0. , 0.6],\n",
       "       [0.9, 0.9, 0.5, ..., 0. , 0.5, 0.4],\n",
       "       [0.9, 0.9, 0.5, ..., 0.1, 0.6, 0.4]], dtype=float32)"
      ]
     },
     "execution_count": 49,
     "metadata": {},
     "output_type": "execute_result"
    }
   ],
   "source": [
    "X"
   ]
  },
  {
   "cell_type": "code",
   "execution_count": 50,
   "id": "7c36e54f",
   "metadata": {},
   "outputs": [
    {
     "data": {
      "text/plain": [
       "array([[1., 0., 0., ..., 0., 0., 0.],\n",
       "       [1., 0., 0., ..., 0., 0., 0.],\n",
       "       [1., 0., 0., ..., 0., 0., 0.],\n",
       "       ...,\n",
       "       [0., 0., 0., ..., 0., 0., 1.],\n",
       "       [0., 0., 0., ..., 0., 0., 1.],\n",
       "       [0., 0., 0., ..., 0., 0., 1.]], dtype=float32)"
      ]
     },
     "execution_count": 50,
     "metadata": {},
     "output_type": "execute_result"
    }
   ],
   "source": [
    "y"
   ]
  },
  {
   "cell_type": "code",
   "execution_count": 51,
   "id": "2b10c6fe",
   "metadata": {},
   "outputs": [],
   "source": [
    "X_train,X_test,y_train,y_test=train_test_split(X,y,test_size=0.2,random_state=100) # traiin test split"
   ]
  },
  {
   "cell_type": "markdown",
   "id": "9a977096",
   "metadata": {},
   "source": [
    "### Model"
   ]
  },
  {
   "cell_type": "code",
   "execution_count": 52,
   "id": "02ab72e2",
   "metadata": {},
   "outputs": [],
   "source": [
    "model = tf.keras.models.Sequential()\n",
    "model.add(tf.keras.layers.Dense(10,input_dim=8,activation='relu'))\n",
    "model.add(tf.keras.layers.Dense(10,input_dim=10,activation='relu'))\n",
    "model.add(tf.keras.layers.Dense(10, activation=\"softmax\"))\n",
    "model.compile(loss = \"categorical_crossentropy\",optimizer = 'adam',metrics = ['accuracy'])"
   ]
  },
  {
   "cell_type": "code",
   "execution_count": 53,
   "id": "aaced31e",
   "metadata": {},
   "outputs": [
    {
     "name": "stdout",
     "output_type": "stream",
     "text": [
      "Model: \"sequential_1\"\n",
      "_________________________________________________________________\n",
      "Layer (type)                 Output Shape              Param #   \n",
      "=================================================================\n",
      "dense_3 (Dense)              (None, 10)                90        \n",
      "_________________________________________________________________\n",
      "dense_4 (Dense)              (None, 10)                110       \n",
      "_________________________________________________________________\n",
      "dense_5 (Dense)              (None, 10)                110       \n",
      "=================================================================\n",
      "Total params: 310\n",
      "Trainable params: 310\n",
      "Non-trainable params: 0\n",
      "_________________________________________________________________\n"
     ]
    }
   ],
   "source": [
    "model.summary()"
   ]
  },
  {
   "cell_type": "code",
   "execution_count": 54,
   "id": "4108ab4b",
   "metadata": {},
   "outputs": [],
   "source": [
    "epochs = 1000"
   ]
  },
  {
   "cell_type": "code",
   "execution_count": 55,
   "id": "845cd9ac",
   "metadata": {
    "scrolled": false
   },
   "outputs": [],
   "source": [
    "\n",
    "history = model.fit(X_train,y_train,epochs = epochs,verbose = 0, validation_data= (X_test,y_test), batch_size = 512 )"
   ]
  },
  {
   "cell_type": "markdown",
   "id": "724e0764",
   "metadata": {},
   "source": [
    "### Model evaluation"
   ]
  },
  {
   "cell_type": "markdown",
   "id": "0a720419",
   "metadata": {},
   "source": [
    "#### Testing accuracy"
   ]
  },
  {
   "cell_type": "code",
   "execution_count": 56,
   "id": "ced6fcde",
   "metadata": {},
   "outputs": [
    {
     "name": "stdout",
     "output_type": "stream",
     "text": [
      "32/32 [==============================] - 0s 3ms/step - loss: 2.2894 - accuracy: 0.1725\n"
     ]
    },
    {
     "data": {
      "text/plain": [
       "0.17248255014419556"
      ]
     },
     "execution_count": 56,
     "metadata": {},
     "output_type": "execute_result"
    }
   ],
   "source": [
    "model.evaluate(X_test, y_test)[1]"
   ]
  },
  {
   "cell_type": "markdown",
   "id": "25740c11",
   "metadata": {},
   "source": [
    "#### Training accuracy"
   ]
  },
  {
   "cell_type": "code",
   "execution_count": 57,
   "id": "2d78d841",
   "metadata": {},
   "outputs": [
    {
     "name": "stdout",
     "output_type": "stream",
     "text": [
      "126/126 [==============================] - 0s 2ms/step - loss: 2.2334 - accuracy: 0.1944\n"
     ]
    },
    {
     "data": {
      "text/plain": [
       "0.19436128437519073"
      ]
     },
     "execution_count": 57,
     "metadata": {},
     "output_type": "execute_result"
    }
   ],
   "source": [
    "model.evaluate(X_train, y_train)[1]"
   ]
  },
  {
   "cell_type": "markdown",
   "id": "b85452b5",
   "metadata": {},
   "source": [
    "### performance visualization"
   ]
  },
  {
   "cell_type": "code",
   "execution_count": 58,
   "id": "8d546f99",
   "metadata": {},
   "outputs": [
    {
     "data": {
      "image/png": "[encoded data removed]",
      "text/plain": [
       "<Figure size 576x576 with 2 Axes>"
      ]
     },
     "metadata": {
      "needs_background": "light"
     },
     "output_type": "display_data"
    }
   ],
   "source": [
    "acc = history.history['accuracy']\n",
    "val_acc = history.history['val_accuracy']\n",
    "\n",
    "loss = history.history['loss']\n",
    "val_loss = history.history['val_loss']\n",
    "\n",
    "epochs_range = range(epochs)\n",
    "\n",
    "plt.figure(figsize=(8, 8))\n",
    "plt.subplot(1, 2, 1)\n",
    "plt.plot(epochs_range, acc, label='Training Accuracy')\n",
    "plt.plot(epochs_range, val_acc, label='Validation Accuracy')\n",
    "plt.legend(loc='lower right')\n",
    "plt.title('Training and Validation Accuracy')\n",
    "\n",
    "plt.subplot(1, 2, 2)\n",
    "plt.plot(epochs_range, loss, label='Training Loss')\n",
    "plt.plot(epochs_range, val_loss, label='Validation Loss')\n",
    "plt.legend(loc='upper right')\n",
    "plt.title('Training and Validation Loss')\n",
    "plt.show()"
   ]
  },
  {
   "cell_type": "markdown",
   "id": "9c689643",
   "metadata": {},
   "source": [
    "### Finding check digits for the given NIC numbers\n",
    "\n",
    "a. 54178341 ,\n",
    "b. 51782160 ,\n",
    "c. 94693202 ,\n",
    "d. 87352340 ,\n",
    "e. 90705025"
   ]
  },
  {
   "cell_type": "code",
   "execution_count": 59,
   "id": "a563a3a0",
   "metadata": {},
   "outputs": [],
   "source": [
    "X_new = [[5,4,1,7,8,3,4,1],[5,1,7,8,2,1,6,0],[9,4,6,9,3,2,0,2],[8,7,3,5,2,3,4,0],[9,0,7,0,5,0,2,5]]"
   ]
  },
  {
   "cell_type": "code",
   "execution_count": null,
   "id": "9e4b8f10",
   "metadata": {},
   "outputs": [],
   "source": []
  },
  {
   "cell_type": "code",
   "execution_count": 60,
   "id": "2524b65a",
   "metadata": {},
   "outputs": [],
   "source": [
    "X_new = np.reshape(X_new, (5,8))/10"
   ]
  },
  {
   "cell_type": "code",
   "execution_count": 61,
   "id": "a3f99408",
   "metadata": {},
   "outputs": [
    {
     "data": {
      "text/plain": [
       "array([[0.5, 0.4, 0.1, 0.7, 0.8, 0.3, 0.4, 0.1],\n",
       "       [0.5, 0.1, 0.7, 0.8, 0.2, 0.1, 0.6, 0. ],\n",
       "       [0.9, 0.4, 0.6, 0.9, 0.3, 0.2, 0. , 0.2],\n",
       "       [0.8, 0.7, 0.3, 0.5, 0.2, 0.3, 0.4, 0. ],\n",
       "       [0.9, 0. , 0.7, 0. , 0.5, 0. , 0.2, 0.5]])"
      ]
     },
     "execution_count": 61,
     "metadata": {},
     "output_type": "execute_result"
    }
   ],
   "source": [
    "X_new"
   ]
  },
  {
   "cell_type": "code",
   "execution_count": 62,
   "id": "952c312d",
   "metadata": {},
   "outputs": [
    {
     "name": "stdout",
     "output_type": "stream",
     "text": [
      "[0.5 0.4 0.1 0.7 0.8 0.3 0.4 0.1]\n",
      "[0.1141455  0.1370481  0.04279486 0.10274357 0.07145969 0.1480094\n",
      " 0.10976969 0.10917061 0.05036069 0.11449795]\n",
      "5\n",
      "\n",
      "\n",
      "[0.5 0.1 0.7 0.8 0.2 0.1 0.6 0. ]\n",
      "[0.22089131 0.07377604 0.0742535  0.1004984  0.07175717 0.08917109\n",
      " 0.1099422  0.09512021 0.09226218 0.07232793]\n",
      "0\n",
      "\n",
      "\n",
      "[0.9 0.4 0.6 0.9 0.3 0.2 0.  0.2]\n",
      "[0.20177157 0.11921007 0.1065856  0.07576714 0.06423429 0.08679319\n",
      " 0.09434833 0.08800041 0.10193415 0.06135526]\n",
      "0\n",
      "\n",
      "\n",
      "[0.8 0.7 0.3 0.5 0.2 0.3 0.4 0. ]\n",
      "[0.15887854 0.09442534 0.0738446  0.0936646  0.1112331  0.09709019\n",
      " 0.08968977 0.10712475 0.08604683 0.08800227]\n",
      "0\n",
      "\n",
      "\n",
      "[0.9 0.  0.7 0.  0.5 0.  0.2 0.5]\n",
      "[0.19861908 0.07869474 0.07505085 0.11642282 0.06534517 0.097978\n",
      " 0.12205609 0.08784953 0.08957855 0.06840514]\n",
      "0\n",
      "\n",
      "\n"
     ]
    }
   ],
   "source": [
    "for i,y in enumerate(model.predict(X_new)):\n",
    "    print(X_new[i])\n",
    "    print(y)\n",
    "    print(np.argmax(y))\n",
    "    print('\\n')"
   ]
  },
  {
   "cell_type": "code",
   "execution_count": null,
   "id": "3610e236",
   "metadata": {},
   "outputs": [],
   "source": []
  }
 ],
 "metadata": {
  "kernelspec": {
   "display_name": "Python 3 (ipykernel)",
   "language": "python",
   "name": "python3"
  },
  "language_info": {
   "codemirror_mode": {
    "name": "ipython",
    "version": 3
   },
   "file_extension": ".py",
   "mimetype": "text/x-python",
   "name": "python",
   "nbconvert_exporter": "python",
   "pygments_lexer": "ipython3",
   "version": "3.8.10"
  }
 },
 "nbformat": 4,
 "nbformat_minor": 5
}
